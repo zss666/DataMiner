{
 "cells": [
  {
   "cell_type": "code",
   "execution_count": null,
   "metadata": {},
   "outputs": [],
   "source": [
    "import numpy as np\n",
    "import matplotlib.pyplot as plt\n",
    "import pandas as pd"
   ]
  },
  {
   "cell_type": "code",
   "execution_count": null,
   "metadata": {},
   "outputs": [],
   "source": [
    "from sklearn import preprocessing\n",
    "from sklearn import feature_selection\n",
    "from sklearn import svm, semi_supervised"
   ]
  },
  {
   "cell_type": "code",
   "execution_count": null,
   "metadata": {},
   "outputs": [],
   "source": [
    "def load_data(train_only=True):\n",
    "    data_train = []\n",
    "    for i in range(1, 6):\n",
    "        data_train.append(pd.read_csv('open_data_train_valid/train/train_{}.txt'.format(i), sep='\\t'))\n",
    "    data_train = pd.concat(data_train)\n",
    "    if train_only:\n",
    "        return data_train\n",
    "    data_val = pd.read_csv('open_data_train_valid/val')\n",
    "    return data_train, data_val\n",
    "\n",
    "\n",
    "def preprocess(data_train, data_val=None):\n",
    "    for i in range(1, 6746):  # 6745 features in total\n",
    "        feat = 'f' + str(i)\n",
    "        data_train[feat] = data_train[feat].fillna(data_train[feat].dropna().median())\n",
    "        # normalize\n",
    "        scaler = preprocessing.StandardScaler()\n",
    "        data_train[feat] = scaler.fit_transform(data_train[feat].values.reshape(-1, 1))\n",
    "        if data_val is not None:\n",
    "            data_val[feat] = scaler.transform(data_val[feat].values.reshape(-1, 1))\n",
    "        # set unknown labels\n",
    "        data_train.loc[data_train['tag'] == 1, data_train['label']] = -1\n",
    "\n",
    "\n",
    "def feature_selection(data, labels):\n",
    "    fselector = feature_selection.SelectKBest(score_func=feature_selection.mutual_info_classif, k=100)\n",
    "    fselector.fit(data, labels)\n",
    "    mask = fselector.get_support()\n",
    "    return mask\n",
    "    \n",
    "    \n",
    "def label_propagation(data, labels):\n",
    "    label_prop_model = semi_supervised.LabelPropagation(kernel='rbf', gamma=20)\n",
    "    label_prop_model.fit(data, labels)\n",
    "    new_labels = label_prop_model.predict(data)\n",
    "    return new_labels\n",
    "\n",
    "\n",
    "def train_svm_classifier(data, labels):\n",
    "    classifier = svm.LinearSVC()\n",
    "    classifier.fit(data, labels)\n",
    "    acc = classifier.score(data, labels)\n",
    "    print('training acc: {}'.format(acc))\n",
    "    return classifier"
   ]
  },
  {
   "cell_type": "code",
   "execution_count": null,
   "metadata": {},
   "outputs": [],
   "source": [
    "# data_train = pd.read_csv('open_data_train_valid/train/train_{}.txt'.format(2), sep='\\t')\n",
    "data_train, data_val = load_data()\n",
    "print(data_train.info())"
   ]
  },
  {
   "cell_type": "code",
   "execution_count": null,
   "metadata": {},
   "outputs": [],
   "source": [
    "data_train"
   ]
  },
  {
   "cell_type": "code",
   "execution_count": null,
   "metadata": {},
   "outputs": [],
   "source": [
    "preprocess(data_train)"
   ]
  },
  {
   "cell_type": "code",
   "execution_count": null,
   "metadata": {},
   "outputs": [],
   "source": [
    "data_train"
   ]
  },
  {
   "cell_type": "code",
   "execution_count": null,
   "metadata": {},
   "outputs": [],
   "source": [
    "# feature selection\n",
    "feat_names = ['f' + str(i) for i in range(1, 6746)]\n",
    "feats = data_train[feat_names].values\n",
    "labels = data_train['label'].values\n",
    "mask = feature_selection(feats, labels)\n",
    "selected_feats = feats[:, mask]"
   ]
  },
  {
   "cell_type": "code",
   "execution_count": null,
   "metadata": {},
   "outputs": [],
   "source": [
    "# label propagation\n",
    "new_labels = label_propagation(selected_feats, labels)"
   ]
  },
  {
   "cell_type": "code",
   "execution_count": null,
   "metadata": {},
   "outputs": [],
   "source": [
    "# train\n",
    "classifier = train_svm_classifier(selected_feats, new_labels)"
   ]
  },
  {
   "cell_type": "code",
   "execution_count": null,
   "metadata": {},
   "outputs": [],
   "source": [
    "# predict\n",
    "labels_val = classifier.predict(data_val)\n",
    "pred_df = pd.DataFrame({'id': data_val['id'], 'prob': labels_val})\n",
    "pred_df.to_csv('result.txt', index=False)"
   ]
  }
 ],
 "metadata": {
  "kernelspec": {
   "display_name": "Python 3",
   "language": "python",
   "name": "python3"
  },
  "language_info": {
   "codemirror_mode": {
    "name": "ipython",
    "version": 3
   },
   "file_extension": ".py",
   "mimetype": "text/x-python",
   "name": "python",
   "nbconvert_exporter": "python",
   "pygments_lexer": "ipython3",
   "version": "3.5.2"
  }
 },
 "nbformat": 4,
 "nbformat_minor": 2
}
